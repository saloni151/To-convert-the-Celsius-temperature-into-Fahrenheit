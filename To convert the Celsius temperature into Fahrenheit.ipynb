{
 "cells": [
  {
   "cell_type": "markdown",
   "id": "efe6c70e-0a72-4839-9566-425d55915f84",
   "metadata": {},
   "source": [
    "**Write a Python program that will convert the Celsius temperature into Fahrenheit**"
   ]
  },
  {
   "cell_type": "code",
   "execution_count": 1,
   "id": "a27dade8-c2e5-43e7-8bc9-601e41f825ae",
   "metadata": {},
   "outputs": [
    {
     "name": "stdin",
     "output_type": "stream",
     "text": [
      "Enter the celsius temerature:  30\n"
     ]
    }
   ],
   "source": [
    "#Accept the Celsius temperature\n",
    "ct=float(input(\"Enter the celsius temerature: \"))"
   ]
  },
  {
   "cell_type": "code",
   "execution_count": 2,
   "id": "df466b3c-952b-42d2-8803-168cacea1400",
   "metadata": {},
   "outputs": [],
   "source": [
    "#Formula to convert the Celsius temperature into Fahrenheit by using the formula, ft = ((9/5)* ct + 32) or ft = 1.8*ct+32\n",
    "ft= 1.8*ct+32"
   ]
  },
  {
   "cell_type": "code",
   "execution_count": 3,
   "id": "7f566e36-fab5-4962-8e08-473ab5f3b275",
   "metadata": {},
   "outputs": [
    {
     "name": "stdout",
     "output_type": "stream",
     "text": [
      "The Celsius temperature is: 30.0\n"
     ]
    }
   ],
   "source": [
    "#display the Celsius temperature value\n",
    "print(\"The Celsius temperature is: {}\".format(ct))"
   ]
  },
  {
   "cell_type": "code",
   "execution_count": 4,
   "id": "002a9db8-06ec-4a12-8104-6cec16de787a",
   "metadata": {},
   "outputs": [
    {
     "name": "stdout",
     "output_type": "stream",
     "text": [
      "The Fahrenheit temperature is: 86.0\n"
     ]
    }
   ],
   "source": [
    "# Display the Fahrenheit temperature value\n",
    "print(\"The Fahrenheit temperature is: {}\".format(ft))"
   ]
  },
  {
   "cell_type": "code",
   "execution_count": null,
   "id": "65c84f47-3678-4b51-b700-714c1ad229b2",
   "metadata": {},
   "outputs": [],
   "source": []
  },
  {
   "cell_type": "code",
   "execution_count": null,
   "id": "7ed5eee5-7985-4498-88a2-e2f974770f5e",
   "metadata": {},
   "outputs": [],
   "source": []
  },
  {
   "cell_type": "code",
   "execution_count": null,
   "id": "8c043aa8-cc7b-408a-9087-8eb0504afef7",
   "metadata": {},
   "outputs": [],
   "source": []
  },
  {
   "cell_type": "code",
   "execution_count": null,
   "id": "44a7acce-3d26-4718-ab9c-38dcc95e403d",
   "metadata": {},
   "outputs": [],
   "source": []
  },
  {
   "cell_type": "code",
   "execution_count": null,
   "id": "4f3619e1-eb30-4f70-b755-c1e3c67f7c54",
   "metadata": {},
   "outputs": [],
   "source": []
  },
  {
   "cell_type": "code",
   "execution_count": null,
   "id": "9f2410a6-0604-4cde-8be4-8f99b380a126",
   "metadata": {},
   "outputs": [],
   "source": []
  },
  {
   "cell_type": "code",
   "execution_count": null,
   "id": "57445d49-6243-467d-b5ef-b66dace6b580",
   "metadata": {},
   "outputs": [],
   "source": []
  },
  {
   "cell_type": "code",
   "execution_count": null,
   "id": "7a6588b2-27ea-442a-802b-15af816a7eb4",
   "metadata": {},
   "outputs": [],
   "source": []
  }
 ],
 "metadata": {
  "kernelspec": {
   "display_name": "Python 3 (ipykernel)",
   "language": "python",
   "name": "python3"
  },
  "language_info": {
   "codemirror_mode": {
    "name": "ipython",
    "version": 3
   },
   "file_extension": ".py",
   "mimetype": "text/x-python",
   "name": "python",
   "nbconvert_exporter": "python",
   "pygments_lexer": "ipython3",
   "version": "3.12.7"
  }
 },
 "nbformat": 4,
 "nbformat_minor": 5
}
